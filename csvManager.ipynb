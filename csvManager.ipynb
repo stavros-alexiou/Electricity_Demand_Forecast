{
  "nbformat": 4,
  "nbformat_minor": 0,
  "metadata": {
    "colab": {
      "name": "csvManager.ipynb",
      "provenance": [],
      "collapsed_sections": []
    },
    "kernelspec": {
      "name": "python3",
      "display_name": "Python 3"
    },
    "language_info": {
      "name": "python"
    }
  },
  "cells": [
    {
      "cell_type": "code",
      "source": [
        "from google.colab import drive\n",
        "drive.mount('/content/drive')"
      ],
      "metadata": {
        "colab": {
          "base_uri": "https://localhost:8080/"
        },
        "id": "HoGTYPsp_Pad",
        "outputId": "e0153d64-0f34-4db2-ea87-be8098643672"
      },
      "execution_count": null,
      "outputs": [
        {
          "output_type": "stream",
          "name": "stdout",
          "text": [
            "Mounted at /content/drive\n"
          ]
        }
      ]
    },
    {
      "cell_type": "code",
      "source": [
        "import os\n",
        "import glob\n",
        "import pandas as pd\n",
        "os.chdir(\"/content/drive/MyDrive/Colab Notebooks/Data Repo/demand\")"
      ],
      "metadata": {
        "id": "Kx3hpxGo_je1"
      },
      "execution_count": null,
      "outputs": []
    },
    {
      "cell_type": "code",
      "source": [
        "extension = 'csv'\n",
        "all_filenames = [i for i in glob.glob('*.{}'.format(extension))]\n",
        "all_filenames"
      ],
      "metadata": {
        "id": "3Bsdtck-_jnU"
      },
      "execution_count": null,
      "outputs": []
    },
    {
      "cell_type": "code",
      "source": [
        "for f in all_filenames:\n",
        "  if os.stat(f).st_size == 0:\n",
        "    os.remove(f)\n",
        "    print(\"empty .csv found\")"
      ],
      "metadata": {
        "id": "zfP7zexiLVo7"
      },
      "execution_count": null,
      "outputs": []
    },
    {
      "cell_type": "code",
      "source": [
        "combined_csv = pd.concat([pd.read_csv(f) for f in all_filenames])\n",
        "combined_csv.shape"
      ],
      "metadata": {
        "id": "mLaq7NECEmtu"
      },
      "execution_count": null,
      "outputs": []
    },
    {
      "cell_type": "code",
      "source": [
        "combined_csv.to_csv('demand-final', index=False, encoding='utf-8')"
      ],
      "metadata": {
        "id": "gOrGpTqF_jrd"
      },
      "execution_count": null,
      "outputs": []
    }
  ]
}