{
  "nbformat": 4,
  "nbformat_minor": 0,
  "metadata": {
    "colab": {
      "name": "c1.ipynb",
      "provenance": [],
      "collapsed_sections": []
    },
    "kernelspec": {
      "name": "python3",
      "display_name": "Python 3"
    },
    "language_info": {
      "name": "python"
    }
  },
  "cells": [
    {
      "cell_type": "markdown",
      "source": [
        "Import all necessary libraries"
      ],
      "metadata": {
        "id": "faqb3w2E8q9q"
      }
    },
    {
      "cell_type": "code",
      "source": [
        "from google.colab import drive\n",
        "drive.mount('/content/drive')"
      ],
      "metadata": {
        "colab": {
          "base_uri": "https://localhost:8080/"
        },
        "id": "XDOToXJs8otq",
        "outputId": "9dd6c982-ec59-47f4-e666-cf2402d15ee2"
      },
      "execution_count": 18,
      "outputs": [
        {
          "output_type": "stream",
          "name": "stdout",
          "text": [
            "Drive already mounted at /content/drive; to attempt to forcibly remount, call drive.mount(\"/content/drive\", force_remount=True).\n"
          ]
        }
      ]
    },
    {
      "cell_type": "code",
      "source": [
        "import pandas as pd\n",
        "import numpy as np\n",
        "from numpy import array"
      ],
      "metadata": {
        "id": "m8qVfkYd84eO"
      },
      "execution_count": 19,
      "outputs": []
    },
    {
      "cell_type": "markdown",
      "source": [
        "Import data "
      ],
      "metadata": {
        "id": "jzTzohsV96fv"
      }
    },
    {
      "cell_type": "code",
      "source": [
        "df = pd.read_csv('/content/drive/MyDrive/Colab Notebooks/Data Repo/demand_final.csv')"
      ],
      "metadata": {
        "id": "ruEyOZWk9DNY"
      },
      "execution_count": 20,
      "outputs": []
    },
    {
      "cell_type": "code",
      "source": [
        "df"
      ],
      "metadata": {
        "colab": {
          "base_uri": "https://localhost:8080/",
          "height": 423
        },
        "id": "ng2NrJ1T9zEn",
        "outputId": "1989b03e-d480-412c-94fc-7d47ed3f94bc"
      },
      "execution_count": 21,
      "outputs": [
        {
          "output_type": "execute_result",
          "data": {
            "text/plain": [
              "         Time  Day ahead forecast  Hour ahead forecast  Current demand\n",
              "0       00:00             21112.0              20527.0         20564.0\n",
              "1       00:05             20262.0              20395.0         20510.0\n",
              "2       00:10             20262.0              20395.0         20447.0\n",
              "3       00:15             20262.0              20395.0         20335.0\n",
              "4       00:20             20262.0              20160.0         20206.0\n",
              "...       ...                 ...                  ...             ...\n",
              "316739  23:40             22096.0              21565.0         21537.0\n",
              "316740  23:45             22096.0              21565.0         21503.0\n",
              "316741  23:50             22096.0              21258.0         21364.0\n",
              "316742  23:55             22096.0              21258.0         21295.0\n",
              "316743  00:00             22096.0              21258.0             NaN\n",
              "\n",
              "[316744 rows x 4 columns]"
            ],
            "text/html": [
              "\n",
              "  <div id=\"df-d8639e29-5876-4ddf-806c-a967e9b2e61a\">\n",
              "    <div class=\"colab-df-container\">\n",
              "      <div>\n",
              "<style scoped>\n",
              "    .dataframe tbody tr th:only-of-type {\n",
              "        vertical-align: middle;\n",
              "    }\n",
              "\n",
              "    .dataframe tbody tr th {\n",
              "        vertical-align: top;\n",
              "    }\n",
              "\n",
              "    .dataframe thead th {\n",
              "        text-align: right;\n",
              "    }\n",
              "</style>\n",
              "<table border=\"1\" class=\"dataframe\">\n",
              "  <thead>\n",
              "    <tr style=\"text-align: right;\">\n",
              "      <th></th>\n",
              "      <th>Time</th>\n",
              "      <th>Day ahead forecast</th>\n",
              "      <th>Hour ahead forecast</th>\n",
              "      <th>Current demand</th>\n",
              "    </tr>\n",
              "  </thead>\n",
              "  <tbody>\n",
              "    <tr>\n",
              "      <th>0</th>\n",
              "      <td>00:00</td>\n",
              "      <td>21112.0</td>\n",
              "      <td>20527.0</td>\n",
              "      <td>20564.0</td>\n",
              "    </tr>\n",
              "    <tr>\n",
              "      <th>1</th>\n",
              "      <td>00:05</td>\n",
              "      <td>20262.0</td>\n",
              "      <td>20395.0</td>\n",
              "      <td>20510.0</td>\n",
              "    </tr>\n",
              "    <tr>\n",
              "      <th>2</th>\n",
              "      <td>00:10</td>\n",
              "      <td>20262.0</td>\n",
              "      <td>20395.0</td>\n",
              "      <td>20447.0</td>\n",
              "    </tr>\n",
              "    <tr>\n",
              "      <th>3</th>\n",
              "      <td>00:15</td>\n",
              "      <td>20262.0</td>\n",
              "      <td>20395.0</td>\n",
              "      <td>20335.0</td>\n",
              "    </tr>\n",
              "    <tr>\n",
              "      <th>4</th>\n",
              "      <td>00:20</td>\n",
              "      <td>20262.0</td>\n",
              "      <td>20160.0</td>\n",
              "      <td>20206.0</td>\n",
              "    </tr>\n",
              "    <tr>\n",
              "      <th>...</th>\n",
              "      <td>...</td>\n",
              "      <td>...</td>\n",
              "      <td>...</td>\n",
              "      <td>...</td>\n",
              "    </tr>\n",
              "    <tr>\n",
              "      <th>316739</th>\n",
              "      <td>23:40</td>\n",
              "      <td>22096.0</td>\n",
              "      <td>21565.0</td>\n",
              "      <td>21537.0</td>\n",
              "    </tr>\n",
              "    <tr>\n",
              "      <th>316740</th>\n",
              "      <td>23:45</td>\n",
              "      <td>22096.0</td>\n",
              "      <td>21565.0</td>\n",
              "      <td>21503.0</td>\n",
              "    </tr>\n",
              "    <tr>\n",
              "      <th>316741</th>\n",
              "      <td>23:50</td>\n",
              "      <td>22096.0</td>\n",
              "      <td>21258.0</td>\n",
              "      <td>21364.0</td>\n",
              "    </tr>\n",
              "    <tr>\n",
              "      <th>316742</th>\n",
              "      <td>23:55</td>\n",
              "      <td>22096.0</td>\n",
              "      <td>21258.0</td>\n",
              "      <td>21295.0</td>\n",
              "    </tr>\n",
              "    <tr>\n",
              "      <th>316743</th>\n",
              "      <td>00:00</td>\n",
              "      <td>22096.0</td>\n",
              "      <td>21258.0</td>\n",
              "      <td>NaN</td>\n",
              "    </tr>\n",
              "  </tbody>\n",
              "</table>\n",
              "<p>316744 rows × 4 columns</p>\n",
              "</div>\n",
              "      <button class=\"colab-df-convert\" onclick=\"convertToInteractive('df-d8639e29-5876-4ddf-806c-a967e9b2e61a')\"\n",
              "              title=\"Convert this dataframe to an interactive table.\"\n",
              "              style=\"display:none;\">\n",
              "        \n",
              "  <svg xmlns=\"http://www.w3.org/2000/svg\" height=\"24px\"viewBox=\"0 0 24 24\"\n",
              "       width=\"24px\">\n",
              "    <path d=\"M0 0h24v24H0V0z\" fill=\"none\"/>\n",
              "    <path d=\"M18.56 5.44l.94 2.06.94-2.06 2.06-.94-2.06-.94-.94-2.06-.94 2.06-2.06.94zm-11 1L8.5 8.5l.94-2.06 2.06-.94-2.06-.94L8.5 2.5l-.94 2.06-2.06.94zm10 10l.94 2.06.94-2.06 2.06-.94-2.06-.94-.94-2.06-.94 2.06-2.06.94z\"/><path d=\"M17.41 7.96l-1.37-1.37c-.4-.4-.92-.59-1.43-.59-.52 0-1.04.2-1.43.59L10.3 9.45l-7.72 7.72c-.78.78-.78 2.05 0 2.83L4 21.41c.39.39.9.59 1.41.59.51 0 1.02-.2 1.41-.59l7.78-7.78 2.81-2.81c.8-.78.8-2.07 0-2.86zM5.41 20L4 18.59l7.72-7.72 1.47 1.35L5.41 20z\"/>\n",
              "  </svg>\n",
              "      </button>\n",
              "      \n",
              "  <style>\n",
              "    .colab-df-container {\n",
              "      display:flex;\n",
              "      flex-wrap:wrap;\n",
              "      gap: 12px;\n",
              "    }\n",
              "\n",
              "    .colab-df-convert {\n",
              "      background-color: #E8F0FE;\n",
              "      border: none;\n",
              "      border-radius: 50%;\n",
              "      cursor: pointer;\n",
              "      display: none;\n",
              "      fill: #1967D2;\n",
              "      height: 32px;\n",
              "      padding: 0 0 0 0;\n",
              "      width: 32px;\n",
              "    }\n",
              "\n",
              "    .colab-df-convert:hover {\n",
              "      background-color: #E2EBFA;\n",
              "      box-shadow: 0px 1px 2px rgba(60, 64, 67, 0.3), 0px 1px 3px 1px rgba(60, 64, 67, 0.15);\n",
              "      fill: #174EA6;\n",
              "    }\n",
              "\n",
              "    [theme=dark] .colab-df-convert {\n",
              "      background-color: #3B4455;\n",
              "      fill: #D2E3FC;\n",
              "    }\n",
              "\n",
              "    [theme=dark] .colab-df-convert:hover {\n",
              "      background-color: #434B5C;\n",
              "      box-shadow: 0px 1px 3px 1px rgba(0, 0, 0, 0.15);\n",
              "      filter: drop-shadow(0px 1px 2px rgba(0, 0, 0, 0.3));\n",
              "      fill: #FFFFFF;\n",
              "    }\n",
              "  </style>\n",
              "\n",
              "      <script>\n",
              "        const buttonEl =\n",
              "          document.querySelector('#df-d8639e29-5876-4ddf-806c-a967e9b2e61a button.colab-df-convert');\n",
              "        buttonEl.style.display =\n",
              "          google.colab.kernel.accessAllowed ? 'block' : 'none';\n",
              "\n",
              "        async function convertToInteractive(key) {\n",
              "          const element = document.querySelector('#df-d8639e29-5876-4ddf-806c-a967e9b2e61a');\n",
              "          const dataTable =\n",
              "            await google.colab.kernel.invokeFunction('convertToInteractive',\n",
              "                                                     [key], {});\n",
              "          if (!dataTable) return;\n",
              "\n",
              "          const docLinkHtml = 'Like what you see? Visit the ' +\n",
              "            '<a target=\"_blank\" href=https://colab.research.google.com/notebooks/data_table.ipynb>data table notebook</a>'\n",
              "            + ' to learn more about interactive tables.';\n",
              "          element.innerHTML = '';\n",
              "          dataTable['output_type'] = 'display_data';\n",
              "          await google.colab.output.renderOutput(dataTable, element);\n",
              "          const docLink = document.createElement('div');\n",
              "          docLink.innerHTML = docLinkHtml;\n",
              "          element.appendChild(docLink);\n",
              "        }\n",
              "      </script>\n",
              "    </div>\n",
              "  </div>\n",
              "  "
            ]
          },
          "metadata": {},
          "execution_count": 21
        }
      ]
    },
    {
      "cell_type": "markdown",
      "source": [
        "The LSTM model expects the input_shape to be three-dimensional matrix with [samples, timesteps, features], therefore, we must reshape the single input \n",
        "sample before making the prediction"
      ],
      "metadata": {
        "id": "NbL5nq_7_cAD"
      }
    },
    {
      "cell_type": "markdown",
      "source": [
        "Convert 'data' Dataframe to a numpy array"
      ],
      "metadata": {
        "id": "KXeF3meyT83W"
      }
    },
    {
      "cell_type": "code",
      "source": [
        "x_input = array(df['Current demand'])\n",
        "x_input"
      ],
      "metadata": {
        "colab": {
          "base_uri": "https://localhost:8080/"
        },
        "id": "yRkDKU-l-1PI",
        "outputId": "4aefa4f7-2d7a-439e-ef8c-48873e7d8036"
      },
      "execution_count": 22,
      "outputs": [
        {
          "output_type": "execute_result",
          "data": {
            "text/plain": [
              "array([20564., 20510., 20447., ..., 21364., 21295.,    nan])"
            ]
          },
          "metadata": {},
          "execution_count": 22
        }
      ]
    },
    {
      "cell_type": "markdown",
      "source": [
        "Reshape 'data' array in order to be a 3-dimentional array. \n",
        "The array's prenious shape was (316744, 3) -> 316744 = 1096*289 features with a five minute timestep each for every day of a 3-year period. The new shape is (3, 289, 1096) -> 1096 days (3 years), 288 5-minute steps for each day +1, as 00:00 seems to be appeared twice, by 3 column of data (Hour ahead, Day ahead, Current)."
      ],
      "metadata": {
        "id": "G9LyNTf_T4-G"
      }
    },
    {
      "cell_type": "code",
      "source": [
        "n_steps = 289\n",
        "n_features = 1096"
      ],
      "metadata": {
        "id": "LZAd91HX_4A3"
      },
      "execution_count": 23,
      "outputs": []
    },
    {
      "cell_type": "code",
      "source": [
        "x_input = x_input.reshape((n_features,n_steps, 1))\n",
        "x_input"
      ],
      "metadata": {
        "colab": {
          "base_uri": "https://localhost:8080/"
        },
        "id": "xdE5rdax_7Wp",
        "outputId": "bb7c1f7a-f293-4569-895c-0e24f6f46bc7"
      },
      "execution_count": 24,
      "outputs": [
        {
          "output_type": "execute_result",
          "data": {
            "text/plain": [
              "array([[[20564.],\n",
              "        [20510.],\n",
              "        [20447.],\n",
              "        ...,\n",
              "        [20680.],\n",
              "        [20498.],\n",
              "        [   nan]],\n",
              "\n",
              "       [[20400.],\n",
              "        [20315.],\n",
              "        [20200.],\n",
              "        ...,\n",
              "        [21868.],\n",
              "        [21761.],\n",
              "        [   nan]],\n",
              "\n",
              "       [[21308.],\n",
              "        [21236.],\n",
              "        [21230.],\n",
              "        ...,\n",
              "        [21570.],\n",
              "        [21412.],\n",
              "        [   nan]],\n",
              "\n",
              "       ...,\n",
              "\n",
              "       [[21147.],\n",
              "        [21199.],\n",
              "        [21226.],\n",
              "        ...,\n",
              "        [21222.],\n",
              "        [21111.],\n",
              "        [   nan]],\n",
              "\n",
              "       [[21106.],\n",
              "        [21024.],\n",
              "        [21018.],\n",
              "        ...,\n",
              "        [20762.],\n",
              "        [20679.],\n",
              "        [   nan]],\n",
              "\n",
              "       [[21125.],\n",
              "        [21086.],\n",
              "        [21070.],\n",
              "        ...,\n",
              "        [21364.],\n",
              "        [21295.],\n",
              "        [   nan]]])"
            ]
          },
          "metadata": {},
          "execution_count": 24
        }
      ]
    },
    {
      "cell_type": "code",
      "source": [
        "outData = df.drop(['Time','Current demand', 'Day ahead forecast'], axis=1)\n",
        "outData"
      ],
      "metadata": {
        "colab": {
          "base_uri": "https://localhost:8080/",
          "height": 423
        },
        "id": "IiknoWM9AH1y",
        "outputId": "98f84c33-3bca-4ef5-8025-c467a29643ff"
      },
      "execution_count": 25,
      "outputs": [
        {
          "output_type": "execute_result",
          "data": {
            "text/plain": [
              "        Hour ahead forecast\n",
              "0                   20527.0\n",
              "1                   20395.0\n",
              "2                   20395.0\n",
              "3                   20395.0\n",
              "4                   20160.0\n",
              "...                     ...\n",
              "316739              21565.0\n",
              "316740              21565.0\n",
              "316741              21258.0\n",
              "316742              21258.0\n",
              "316743              21258.0\n",
              "\n",
              "[316744 rows x 1 columns]"
            ],
            "text/html": [
              "\n",
              "  <div id=\"df-44310ca4-8a5b-4a7c-9c36-70d4ad406030\">\n",
              "    <div class=\"colab-df-container\">\n",
              "      <div>\n",
              "<style scoped>\n",
              "    .dataframe tbody tr th:only-of-type {\n",
              "        vertical-align: middle;\n",
              "    }\n",
              "\n",
              "    .dataframe tbody tr th {\n",
              "        vertical-align: top;\n",
              "    }\n",
              "\n",
              "    .dataframe thead th {\n",
              "        text-align: right;\n",
              "    }\n",
              "</style>\n",
              "<table border=\"1\" class=\"dataframe\">\n",
              "  <thead>\n",
              "    <tr style=\"text-align: right;\">\n",
              "      <th></th>\n",
              "      <th>Hour ahead forecast</th>\n",
              "    </tr>\n",
              "  </thead>\n",
              "  <tbody>\n",
              "    <tr>\n",
              "      <th>0</th>\n",
              "      <td>20527.0</td>\n",
              "    </tr>\n",
              "    <tr>\n",
              "      <th>1</th>\n",
              "      <td>20395.0</td>\n",
              "    </tr>\n",
              "    <tr>\n",
              "      <th>2</th>\n",
              "      <td>20395.0</td>\n",
              "    </tr>\n",
              "    <tr>\n",
              "      <th>3</th>\n",
              "      <td>20395.0</td>\n",
              "    </tr>\n",
              "    <tr>\n",
              "      <th>4</th>\n",
              "      <td>20160.0</td>\n",
              "    </tr>\n",
              "    <tr>\n",
              "      <th>...</th>\n",
              "      <td>...</td>\n",
              "    </tr>\n",
              "    <tr>\n",
              "      <th>316739</th>\n",
              "      <td>21565.0</td>\n",
              "    </tr>\n",
              "    <tr>\n",
              "      <th>316740</th>\n",
              "      <td>21565.0</td>\n",
              "    </tr>\n",
              "    <tr>\n",
              "      <th>316741</th>\n",
              "      <td>21258.0</td>\n",
              "    </tr>\n",
              "    <tr>\n",
              "      <th>316742</th>\n",
              "      <td>21258.0</td>\n",
              "    </tr>\n",
              "    <tr>\n",
              "      <th>316743</th>\n",
              "      <td>21258.0</td>\n",
              "    </tr>\n",
              "  </tbody>\n",
              "</table>\n",
              "<p>316744 rows × 1 columns</p>\n",
              "</div>\n",
              "      <button class=\"colab-df-convert\" onclick=\"convertToInteractive('df-44310ca4-8a5b-4a7c-9c36-70d4ad406030')\"\n",
              "              title=\"Convert this dataframe to an interactive table.\"\n",
              "              style=\"display:none;\">\n",
              "        \n",
              "  <svg xmlns=\"http://www.w3.org/2000/svg\" height=\"24px\"viewBox=\"0 0 24 24\"\n",
              "       width=\"24px\">\n",
              "    <path d=\"M0 0h24v24H0V0z\" fill=\"none\"/>\n",
              "    <path d=\"M18.56 5.44l.94 2.06.94-2.06 2.06-.94-2.06-.94-.94-2.06-.94 2.06-2.06.94zm-11 1L8.5 8.5l.94-2.06 2.06-.94-2.06-.94L8.5 2.5l-.94 2.06-2.06.94zm10 10l.94 2.06.94-2.06 2.06-.94-2.06-.94-.94-2.06-.94 2.06-2.06.94z\"/><path d=\"M17.41 7.96l-1.37-1.37c-.4-.4-.92-.59-1.43-.59-.52 0-1.04.2-1.43.59L10.3 9.45l-7.72 7.72c-.78.78-.78 2.05 0 2.83L4 21.41c.39.39.9.59 1.41.59.51 0 1.02-.2 1.41-.59l7.78-7.78 2.81-2.81c.8-.78.8-2.07 0-2.86zM5.41 20L4 18.59l7.72-7.72 1.47 1.35L5.41 20z\"/>\n",
              "  </svg>\n",
              "      </button>\n",
              "      \n",
              "  <style>\n",
              "    .colab-df-container {\n",
              "      display:flex;\n",
              "      flex-wrap:wrap;\n",
              "      gap: 12px;\n",
              "    }\n",
              "\n",
              "    .colab-df-convert {\n",
              "      background-color: #E8F0FE;\n",
              "      border: none;\n",
              "      border-radius: 50%;\n",
              "      cursor: pointer;\n",
              "      display: none;\n",
              "      fill: #1967D2;\n",
              "      height: 32px;\n",
              "      padding: 0 0 0 0;\n",
              "      width: 32px;\n",
              "    }\n",
              "\n",
              "    .colab-df-convert:hover {\n",
              "      background-color: #E2EBFA;\n",
              "      box-shadow: 0px 1px 2px rgba(60, 64, 67, 0.3), 0px 1px 3px 1px rgba(60, 64, 67, 0.15);\n",
              "      fill: #174EA6;\n",
              "    }\n",
              "\n",
              "    [theme=dark] .colab-df-convert {\n",
              "      background-color: #3B4455;\n",
              "      fill: #D2E3FC;\n",
              "    }\n",
              "\n",
              "    [theme=dark] .colab-df-convert:hover {\n",
              "      background-color: #434B5C;\n",
              "      box-shadow: 0px 1px 3px 1px rgba(0, 0, 0, 0.15);\n",
              "      filter: drop-shadow(0px 1px 2px rgba(0, 0, 0, 0.3));\n",
              "      fill: #FFFFFF;\n",
              "    }\n",
              "  </style>\n",
              "\n",
              "      <script>\n",
              "        const buttonEl =\n",
              "          document.querySelector('#df-44310ca4-8a5b-4a7c-9c36-70d4ad406030 button.colab-df-convert');\n",
              "        buttonEl.style.display =\n",
              "          google.colab.kernel.accessAllowed ? 'block' : 'none';\n",
              "\n",
              "        async function convertToInteractive(key) {\n",
              "          const element = document.querySelector('#df-44310ca4-8a5b-4a7c-9c36-70d4ad406030');\n",
              "          const dataTable =\n",
              "            await google.colab.kernel.invokeFunction('convertToInteractive',\n",
              "                                                     [key], {});\n",
              "          if (!dataTable) return;\n",
              "\n",
              "          const docLinkHtml = 'Like what you see? Visit the ' +\n",
              "            '<a target=\"_blank\" href=https://colab.research.google.com/notebooks/data_table.ipynb>data table notebook</a>'\n",
              "            + ' to learn more about interactive tables.';\n",
              "          element.innerHTML = '';\n",
              "          dataTable['output_type'] = 'display_data';\n",
              "          await google.colab.output.renderOutput(dataTable, element);\n",
              "          const docLink = document.createElement('div');\n",
              "          docLink.innerHTML = docLinkHtml;\n",
              "          element.appendChild(docLink);\n",
              "        }\n",
              "      </script>\n",
              "    </div>\n",
              "  </div>\n",
              "  "
            ]
          },
          "metadata": {},
          "execution_count": 25
        }
      ]
    },
    {
      "cell_type": "code",
      "source": [
        "y_output = array(outData)\n",
        "y_output.shape"
      ],
      "metadata": {
        "colab": {
          "base_uri": "https://localhost:8080/"
        },
        "id": "mdeRRjqJA11j",
        "outputId": "0f27daf8-eefd-4b1a-b597-ca01a705d185"
      },
      "execution_count": 26,
      "outputs": [
        {
          "output_type": "execute_result",
          "data": {
            "text/plain": [
              "(316744, 1)"
            ]
          },
          "metadata": {},
          "execution_count": 26
        }
      ]
    },
    {
      "cell_type": "code",
      "source": [
        "y_output = y_output.reshape((n_features,n_steps,1))\n",
        "y_output"
      ],
      "metadata": {
        "colab": {
          "base_uri": "https://localhost:8080/"
        },
        "id": "63FrxwkcAHzl",
        "outputId": "0d5ed160-3067-4373-cf2a-3eacc661e964"
      },
      "execution_count": 27,
      "outputs": [
        {
          "output_type": "execute_result",
          "data": {
            "text/plain": [
              "array([[[20527.],\n",
              "        [20395.],\n",
              "        [20395.],\n",
              "        ...,\n",
              "        [20645.],\n",
              "        [20645.],\n",
              "        [20645.]],\n",
              "\n",
              "       [[20532.],\n",
              "        [20300.],\n",
              "        [20300.],\n",
              "        ...,\n",
              "        [21842.],\n",
              "        [21842.],\n",
              "        [21842.]],\n",
              "\n",
              "       [[21387.],\n",
              "        [21258.],\n",
              "        [21258.],\n",
              "        ...,\n",
              "        [21473.],\n",
              "        [21473.],\n",
              "        [21473.]],\n",
              "\n",
              "       ...,\n",
              "\n",
              "       [[21177.],\n",
              "        [21024.],\n",
              "        [21024.],\n",
              "        ...,\n",
              "        [21116.],\n",
              "        [21116.],\n",
              "        [21116.]],\n",
              "\n",
              "       [[21110.],\n",
              "        [20971.],\n",
              "        [20971.],\n",
              "        ...,\n",
              "        [20626.],\n",
              "        [20626.],\n",
              "        [20626.]],\n",
              "\n",
              "       [[21237.],\n",
              "        [21044.],\n",
              "        [21044.],\n",
              "        ...,\n",
              "        [21258.],\n",
              "        [21258.],\n",
              "        [21258.]]])"
            ]
          },
          "metadata": {},
          "execution_count": 27
        }
      ]
    },
    {
      "cell_type": "markdown",
      "source": [
        "Model construction\n"
      ],
      "metadata": {
        "id": "Cz87ZQLUXoz0"
      }
    },
    {
      "cell_type": "code",
      "source": [
        "from keras.models import Sequential\n",
        "from keras.layers import LSTM, Dense, RepeatVector"
      ],
      "metadata": {
        "id": "ZuYGKCF1CquM"
      },
      "execution_count": 28,
      "outputs": []
    },
    {
      "cell_type": "code",
      "source": [
        "model = Sequential()\n",
        "\n",
        "# encoder layer\n",
        "model.add(LSTM(289, activation='relu', input_shape=(n_steps, 1)))\n",
        "\n",
        "# repeat Vector\n",
        "model.add(RepeatVector(n_steps))\n",
        "\n",
        "# decoder layer\n",
        "model.add(LSTM(289, activation='relu', return_sequences=True))\n",
        "\n",
        "model.add((Dense(1)))\n",
        "\n",
        "model.summary()"
      ],
      "metadata": {
        "id": "RNokALn0Xs4a",
        "colab": {
          "base_uri": "https://localhost:8080/"
        },
        "outputId": "7c4fc59d-0458-4670-8ff4-e205b851fbd0"
      },
      "execution_count": 32,
      "outputs": [
        {
          "output_type": "stream",
          "name": "stdout",
          "text": [
            "Model: \"sequential_3\"\n",
            "_________________________________________________________________\n",
            " Layer (type)                Output Shape              Param #   \n",
            "=================================================================\n",
            " lstm_6 (LSTM)               (None, 289)               336396    \n",
            "                                                                 \n",
            " repeat_vector_3 (RepeatVect  (None, 289, 289)         0         \n",
            " or)                                                             \n",
            "                                                                 \n",
            " lstm_7 (LSTM)               (None, 289, 289)          669324    \n",
            "                                                                 \n",
            " dense_3 (Dense)             (None, 289, 1)            290       \n",
            "                                                                 \n",
            "=================================================================\n",
            "Total params: 1,006,010\n",
            "Trainable params: 1,006,010\n",
            "Non-trainable params: 0\n",
            "_________________________________________________________________\n"
          ]
        }
      ]
    },
    {
      "cell_type": "code",
      "source": [
        "import tensorflow as tf\n",
        "from keras.backend import binary_crossentropy\n",
        "model.compile(loss='mse', optimizer=tf.keras.optimizers.Adam(learning_rate=1e-5), metrics=['accuracy'])"
      ],
      "metadata": {
        "id": "KXFdgjdkPK62"
      },
      "execution_count": 30,
      "outputs": []
    },
    {
      "cell_type": "code",
      "source": [
        "history = model.fit(x_input, y_output, epochs=100, validation_split=0.1, verbose=1, batch_size=289)"
      ],
      "metadata": {
        "id": "XSPPnavHDUj_"
      },
      "execution_count": null,
      "outputs": []
    }
  ]
}