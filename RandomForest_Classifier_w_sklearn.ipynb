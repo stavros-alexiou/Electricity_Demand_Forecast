{
  "nbformat": 4,
  "nbformat_minor": 0,
  "metadata": {
    "colab": {
      "name": "RandomForest Classifier without Word2Vec.ipynb",
      "provenance": [],
      "collapsed_sections": []
    },
    "kernelspec": {
      "name": "python3",
      "display_name": "Python 3"
    },
    "language_info": {
      "name": "python"
    }
  },
  "cells": [
    {
      "cell_type": "code",
      "execution_count": 1,
      "metadata": {
        "id": "qkMtfoKPh92z"
      },
      "outputs": [],
      "source": [
        "from sklearn.naive_bayes import MultinomialNB\n",
        "from sklearn.linear_model import SGDClassifier"
      ]
    },
    {
      "cell_type": "code",
      "source": [
        "text_clf = Pipeline([('vect', CountVectorizer()),\n",
        "                     ('tfidf', TfidfTransformer()),\n",
        "                     ('clf', RandomForestClassifier(n_estimators = 100))])"
      ],
      "metadata": {
        "id": "FkFiwvgki5oI"
      },
      "execution_count": null,
      "outputs": []
    },
    {
      "cell_type": "code",
      "source": [
        "Z = text_clf.fit(train_reviews['Text'], train_reviews['Class'])"
      ],
      "metadata": {
        "id": "OlSrSPtni5k2"
      },
      "execution_count": null,
      "outputs": []
    },
    {
      "cell_type": "code",
      "source": [
        "predicted = text_clf.predict(test_reviews['Text'])"
      ],
      "metadata": {
        "id": "P0QNYV6PjIO6"
      },
      "execution_count": null,
      "outputs": []
    },
    {
      "cell_type": "code",
      "source": [
        "print(classification_report(test_reviews['Class'], predicted))"
      ],
      "metadata": {
        "id": "ExQlJamQjKCW"
      },
      "execution_count": null,
      "outputs": []
    },
    {
      "cell_type": "code",
      "source": [
        "print(confusion_matrix(test_reviews['Class'], predicted))"
      ],
      "metadata": {
        "id": "FiY1xMikjLaR"
      },
      "execution_count": null,
      "outputs": []
    }
  ]
}